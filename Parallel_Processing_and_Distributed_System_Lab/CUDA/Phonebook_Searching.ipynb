{
  "nbformat": 4,
  "nbformat_minor": 0,
  "metadata": {
    "colab": {
      "provenance": [],
      "gpuType": "T4"
    },
    "kernelspec": {
      "name": "python3",
      "display_name": "Python 3"
    },
    "language_info": {
      "name": "python"
    },
    "accelerator": "GPU"
  },
  "cells": [
    {
      "cell_type": "code",
      "execution_count": 74,
      "metadata": {
        "colab": {
          "base_uri": "https://localhost:8080/"
        },
        "id": "Nl3upXWUYUTx",
        "outputId": "74108fdb-5014-49d9-a258-43aa74ee309a"
      },
      "outputs": [
        {
          "output_type": "stream",
          "name": "stdout",
          "text": [
            "Overwriting search_phonebook.cu\n"
          ]
        }
      ],
      "source": [
        "%%writefile search_phonebook.cu\n",
        "#include <bits/stdc++.h>\n",
        "#include <cuda.h>\n",
        "\n",
        "using namespace std;\n",
        "\n",
        "struct Contact {\n",
        "  char id[50];\n",
        "  char name[50];\n",
        "  char number[50];\n",
        "};\n",
        "\n",
        "__device__ bool check(char* str1, char* str2, int len) {\n",
        "  for(int i = 0; str1[i] != '\\0'; i++) {\n",
        "    int j = 0;\n",
        "    while(str1[i+j] != '\\0' && str2[j] != '\\0' && str1[i+j] == str2[j]) {\n",
        "      j++;\n",
        "    }\n",
        "    if(j == len-1) {\n",
        "      return true;\n",
        "    }\n",
        "  }\n",
        "  return false;\n",
        "}\n",
        "\n",
        "__global__ void searchPhonebook(Contact* phonebook, int num_contacts, char* search_name, int name_length) {\n",
        "  int idx = blockIdx.x * blockDim.x + threadIdx.x;\n",
        "  if(idx < num_contacts) {\n",
        "    if(check(phonebook[idx].name, search_name, name_length)) {\n",
        "      printf(\"%s %s %s\\n\", phonebook[idx].id, phonebook[idx].name, phonebook[idx].number);\n",
        "    }\n",
        "  }\n",
        "}\n",
        "\n",
        "int main(int argc, char* argv[]) {\n",
        "  if(argc != 3) {\n",
        "    cerr << \"Usage: \" << argv[0] << \" <search_name> <num_threads>\" << endl;\n",
        "    return 1;\n",
        "  }\n",
        "\n",
        "  string search_name = argv[1];\n",
        "  int num_threads = atoi(argv[2]);\n",
        "  // Mount Google Drive and copy the location\n",
        "  string file_name = \"/content/drive/MyDrive/Dataset/labtest_dataset1.txt\";\n",
        "\n",
        "  vector<Contact> phonebook;\n",
        "\n",
        "  ifstream file(file_name);\n",
        "  if(!file.is_open()) {\n",
        "    cerr << \"Error opening file: \" << file_name << endl;\n",
        "    return 1;\n",
        "  }\n",
        "  else {\n",
        "    Contact contact;\n",
        "    string line;\n",
        "    while(getline(file, line)) {\n",
        "      /* Format: \"id\",\"name\".\"phone_number\"\n",
        "      int pos = line.find(\",\");\n",
        "      strcpy(contact.id, line.substr(1, pos-2).c_str());\n",
        "      line = line.substr(pos+1);\n",
        "      pos = line.find(\",\");\n",
        "      strcpy(contact.name, line.substr(1, pos-2).c_str());\n",
        "      strcpy(contact.number, line.substr(pos+2, line.size()-pos-4).c_str());\n",
        "      phonebook.push_back(contact);\n",
        "      */\n",
        "\n",
        "      // Format: \"name\".\"phone_number\"\n",
        "      int pos = line.find(\",\");\n",
        "      // Extract name (without the quotes)\n",
        "      strcpy(contact.name, line.substr(1, pos - 2).c_str());\n",
        "\n",
        "      // Extract number (also without quotes)\n",
        "      strcpy(contact.number, line.substr(pos + 2, line.size() - pos - 4).c_str());\n",
        "\n",
        "      phonebook.push_back(contact);\n",
        "    }\n",
        "    file.close();\n",
        "  }\n",
        "  int num_contacts = phonebook.size();\n",
        "  Contact* device_phonebook;\n",
        "  cudaMalloc((void**)&device_phonebook, sizeof(Contact)*num_contacts);\n",
        "  cudaMemcpy(device_phonebook, phonebook.data(), sizeof(Contact)*num_contacts, cudaMemcpyHostToDevice);\n",
        "\n",
        "  int name_length = search_name.length() + 1;\n",
        "  char* device_search_name;\n",
        "  cudaMalloc((void**)&device_search_name, name_length);\n",
        "  cudaMemcpy(device_search_name, search_name.c_str(), name_length, cudaMemcpyHostToDevice);\n",
        "\n",
        "  for(int i = 0; i < num_contacts; i += num_threads) {\n",
        "    int thread_count = min(num_contacts-i, num_threads);\n",
        "    searchPhonebook<<<1, thread_count>>>(device_phonebook + i, thread_count, device_search_name, name_length);\n",
        "    cudaDeviceSynchronize();\n",
        "  }\n",
        "\n",
        "  cudaFree(device_phonebook);\n",
        "  cudaFree(device_search_name);\n",
        "\n",
        "  return 0;\n",
        "}"
      ]
    },
    {
      "cell_type": "code",
      "source": [
        "!nvcc -arch=sm_75 search_phonebook.cu -o search_phonebook"
      ],
      "metadata": {
        "id": "WRNcJgCQYnSr"
      },
      "execution_count": 75,
      "outputs": []
    },
    {
      "cell_type": "code",
      "source": [
        "!time ./search_phonebook SHAKIL 100 > output1.txt"
      ],
      "metadata": {
        "colab": {
          "base_uri": "https://localhost:8080/"
        },
        "id": "mKVzXBIoZTL1",
        "outputId": "e93ed26d-d557-43fe-ed64-6750118e3065"
      },
      "execution_count": 76,
      "outputs": [
        {
          "output_type": "stream",
          "name": "stdout",
          "text": [
            "\n",
            "real\t0m14.909s\n",
            "user\t0m10.314s\n",
            "sys\t0m4.308s\n"
          ]
        }
      ]
    }
  ]
}